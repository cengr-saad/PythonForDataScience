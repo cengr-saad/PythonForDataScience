{
  "nbformat": 4,
  "nbformat_minor": 0,
  "metadata": {
    "colab": {
      "provenance": []
    },
    "kernelspec": {
      "name": "python3",
      "display_name": "Python 3"
    },
    "language_info": {
      "name": "python"
    }
  },
  "cells": [
    {
      "cell_type": "markdown",
      "source": [
        "# **Getting Started with Python For Data Science**"
      ],
      "metadata": {
        "id": "nxwFwLRV1Nuu"
      }
    },
    {
      "cell_type": "markdown",
      "source": [
        "# **1 - Python Basics**"
      ],
      "metadata": {
        "id": "ulinnZ1B2Tn2"
      }
    },
    {
      "cell_type": "markdown",
      "source": [
        "# **Exercise**\n",
        "# **The Python Interface**\n",
        "Hit Run Code to run your first Python code with Datacamp and see the output!\n",
        "\n",
        "Notice the script.py window; this is where you can type Python code to solve exercises. You can hit Run Code and Submit Answer as often as you want. If you're stuck, you can click Get Hint, and ultimately Get Solution.\n",
        "\n",
        "You can also use the IPython Shell interactively by typing commands and hitting Enter. Here, your code will not be checked for correctness so it is a great way to experiment.\n",
        "\n",
        "# **Instructions**\n",
        "Experiment in the IPython Shell; type 5 / 8, for example.\n",
        "Add another line of code to script.py, print(7 + 10), to be checked for correctness.\n",
        "Hit Submit Answer to execute the Python script and receive feedback."
      ],
      "metadata": {
        "id": "AAMXHsrd1E9F"
      }
    },
    {
      "cell_type": "code",
      "source": [
        "# Example, do not modify!\n",
        "print(5 / 8)\n",
        "\n",
        "# Print the sum of 7 and 10\n",
        "print(7 + 10)"
      ],
      "metadata": {
        "colab": {
          "base_uri": "https://localhost:8080/"
        },
        "id": "oFtvQAcVmEFh",
        "outputId": "d777720d-bc81-4c26-971b-aa42a507c3b5"
      },
      "execution_count": null,
      "outputs": [
        {
          "output_type": "stream",
          "name": "stdout",
          "text": [
            "0.625\n",
            "17\n"
          ]
        }
      ]
    },
    {
      "cell_type": "markdown",
      "source": [
        "# **Exercise**\n",
        "Any comments?\n",
        "You can also add comments to your Python scripts. Comments are important to make sure that you and others can understand what your code is about and do not run as Python code.\n",
        "\n",
        "They start with # tag. See the comment in the editor, # Division; now it's your turn to add a comment!\n",
        "\n",
        "# **Instructions**\n",
        "Above the print(7 + 10), add the comment\n",
        "\n",
        "```\n",
        "# Addition\n",
        "```\n",
        "\n"
      ],
      "metadata": {
        "id": "otk49Yoe1s5L"
      }
    },
    {
      "cell_type": "code",
      "source": [
        "# Division\n",
        "print(5 / 8)\n",
        "\n",
        "# Addition\n",
        "print(7 + 10)"
      ],
      "metadata": {
        "colab": {
          "base_uri": "https://localhost:8080/"
        },
        "id": "wCH01qJ714w7",
        "outputId": "cd8dc53f-8f45-4e19-8356-682c2533ff73"
      },
      "execution_count": null,
      "outputs": [
        {
          "output_type": "stream",
          "name": "stdout",
          "text": [
            "0.625\n",
            "17\n"
          ]
        }
      ]
    },
    {
      "cell_type": "markdown",
      "source": [
        "# **Exercise**\n",
        "Python as a calculator\n",
        "Python is perfectly suited to do basic calculations. It can do addition, subtraction, multiplication and division.\n",
        "\n",
        "The code in the script gives some examples.\n",
        "\n",
        "Now it's your turn to practice!\n",
        "\n",
        "# **Instructions**\n",
        "Print the sum of 4 + 5.\n",
        "Print the result of subtracting 5 from 5.\n",
        "Print the result of multiplying 3 by 5.\n",
        "Print the result of dividing 10 by 2."
      ],
      "metadata": {
        "id": "bLSxbXff1rIB"
      }
    },
    {
      "cell_type": "code",
      "source": [
        "# Addition\n",
        "print(4+5)\n",
        "\n",
        "# Subtraction\n",
        "print(5-5)\n",
        "\n",
        "# Multiplication\n",
        "print(3*5)\n",
        "\n",
        "# Division\n",
        "print(10/2)"
      ],
      "metadata": {
        "colab": {
          "base_uri": "https://localhost:8080/"
        },
        "id": "RlA42CGX2dlw",
        "outputId": "93134e42-0ee2-4d84-fd09-c3bf92dbcd65"
      },
      "execution_count": null,
      "outputs": [
        {
          "output_type": "stream",
          "name": "stdout",
          "text": [
            "9\n",
            "0\n",
            "15\n",
            "5.0\n"
          ]
        }
      ]
    },
    {
      "cell_type": "markdown",
      "source": [
        "# **Exercise**\n",
        "Variable Assignment\n",
        "In Python, a variable allows you to refer to a value with a name. To create a variable x with a value of 5, you use =, like this example:\n",
        "\n",
        "x = 5\n",
        "You can now use the name of this variable, x, instead of the actual value, 5.\n",
        "\n",
        "Remember, = in Python means assignment, it doesn't test equality!\n",
        "\n",
        "# **Instructions**\n",
        "Create a variable savings with the value of 100.\n",
        "Check out this variable by typing print(savings) in the script."
      ],
      "metadata": {
        "id": "7o9O8PYE2oAz"
      }
    },
    {
      "cell_type": "code",
      "source": [
        "# Create a variable savings\n",
        "savings = 100\n",
        "\n",
        "# Print out savings\n",
        "print(savings)"
      ],
      "metadata": {
        "colab": {
          "base_uri": "https://localhost:8080/"
        },
        "id": "WPCkTKRJ2yEs",
        "outputId": "5f090b75-f0c8-43b7-86c2-6856359eab97"
      },
      "execution_count": null,
      "outputs": [
        {
          "output_type": "stream",
          "name": "stdout",
          "text": [
            "100\n"
          ]
        }
      ]
    },
    {
      "cell_type": "markdown",
      "source": [
        "# **Exercise**\n",
        "Calculations with variables\n",
        "You've now created a savings variable, so let's start saving!\n",
        "\n",
        "Instead of calculating with the actual values, you can use variables instead. The savings variable you created in the previous exercise with a value of 100 is available to you.\n",
        "\n",
        "How much money would you have saved four months from now, if you saved $10 each month?\n",
        "\n",
        "# **Instructions**\n",
        "Create a variable monthly_savings, equal to 10 and num_months, equal to 4.\n",
        "Multiply monthly_savings by num_months and save it to new_savings.\n",
        "Add new_savings to savings, saving the sum as total_savings.\n",
        "Print the value of total_savings."
      ],
      "metadata": {
        "id": "EuRfEC7Z20-U"
      }
    },
    {
      "cell_type": "code",
      "source": [
        "# Create the variables monthly_savings and num_months\n",
        "monthly_savings=10\n",
        "num_months=4\n",
        "\n",
        "\n",
        "# Multiply monthly_savings and num_months\n",
        "new_savings = num_months*monthly_savings\n",
        "\n",
        "# Add new_savings to your savings\n",
        "total_savings = new_savings+savings\n",
        "\n",
        "# Print total_savings\n",
        "print(total_savings)\n"
      ],
      "metadata": {
        "colab": {
          "base_uri": "https://localhost:8080/"
        },
        "id": "MdJg_rxo3Arr",
        "outputId": "526dadc7-ecd9-443a-925c-9142461e07c8"
      },
      "execution_count": null,
      "outputs": [
        {
          "output_type": "stream",
          "name": "stdout",
          "text": [
            "140\n"
          ]
        }
      ]
    },
    {
      "cell_type": "markdown",
      "source": [
        "# **Exercise**\n",
        "Other variable types\n",
        "In the previous exercise, you worked with the integer Python data type:\n",
        "\n",
        "int, or integer: a number without a fractional part. savings, with the value 100, is an example of an integer.\n",
        "Next to numerical data types, there are three other very common data types:\n",
        "\n",
        "float, or floating point: a number that has both an integer and fractional part, separated by a point. 1.1, is an example of a float.\n",
        "str, or string: a type to represent text. You can use single or double quotes to build a string.\n",
        "bool, or boolean: a type to represent logical values. It can only be True or False (the capitalization is important!).\n",
        "# **Instructions**\n",
        "Create a new float, half, with the value 0.5.\n",
        "Create a new string, intro, with the value \"Hello! How are you?\".\n",
        "Create a new boolean, is_good, with the value True."
      ],
      "metadata": {
        "id": "ghLhHq9r3ETc"
      }
    },
    {
      "cell_type": "code",
      "source": [
        "# Create a variable half\n",
        "half=0.5\n",
        "\n",
        "# Create a variable intro\n",
        "intro='Hello! How are you?'\n",
        "\n",
        "# Create a variable is_good\n",
        "is_good=True"
      ],
      "metadata": {
        "id": "XL4lou2O3Nem"
      },
      "execution_count": null,
      "outputs": []
    },
    {
      "cell_type": "markdown",
      "source": [
        "# **Exercise**\n",
        "Operations with other types\n",
        "Hugo mentioned that different types behave differently in Python.\n",
        "\n",
        "When you sum two strings, for example, you'll get different behavior than when you sum two integers or two booleans.\n",
        "\n",
        "In the script some variables with different types have already been created. It's up to you to use them.\n",
        "\n",
        "# **Instructions**\n",
        "Calculate the product of monthly_savings and num_months. Store the result in year_savings.\n",
        "What do you think the resulting type will be? Find out by printing out the type of year_savings.\n",
        "Calculate the sum of intro and intro and store the result in a new variable doubleintro.\n",
        "Print out doubleintro. Did you expect this?"
      ],
      "metadata": {
        "id": "Gvtwd0Ek3R3k"
      }
    },
    {
      "cell_type": "code",
      "source": [
        "monthly_savings = 10\n",
        "num_months = 12\n",
        "intro = \"Hello! How are you?\"\n",
        "\n",
        "# Calculate year_savings using monthly_savings and num_months\n",
        "year_savings = monthly_savings*num_months\n",
        "\n",
        "# Print the type of year_savings\n",
        "print(type(year_savings))\n",
        "\n",
        "# Assign sum of intro and intro to doubleintro\n",
        "doubleintro=intro+intro\n",
        "\n",
        "# Print out doubleintro\n",
        "print(doubleintro)"
      ],
      "metadata": {
        "colab": {
          "base_uri": "https://localhost:8080/"
        },
        "id": "LSK9VDAB3eCI",
        "outputId": "82f8a125-0de9-49b9-e679-faa452cc6fe6"
      },
      "execution_count": 1,
      "outputs": [
        {
          "output_type": "stream",
          "name": "stdout",
          "text": [
            "<class 'int'>\n",
            "Hello! How are you?Hello! How are you?\n"
          ]
        }
      ]
    },
    {
      "cell_type": "markdown",
      "source": [
        "# **Exercise**\n",
        "Type conversion\n",
        "Using the + operator to paste together two strings can be very useful in building custom messages.\n",
        "\n",
        "Suppose, for example, that you've calculated your savings want to summarize the results in a string.\n",
        "\n",
        "To do this, you'll need to explicitly convert the types of your variables. More specifically, you'll need str(), to convert a value into a string. str(savings), for example, will convert the integer savings to a string.\n",
        "\n",
        "Similar functions such as int(), float() and bool() will help you convert Python values into any type.\n",
        "\n",
        "# **Instructions**\n",
        "Hit Run Code to run the code. Try to understand the error message.\n",
        "Fix the code such that the printout runs without errors; use the function str() to convert the variables savings and total_savings to strings.\n",
        "Convert the variable pi_string to a float and store this float as a new variable, pi_float."
      ],
      "metadata": {
        "id": "DVQbhYG33mJG"
      }
    },
    {
      "cell_type": "code",
      "source": [
        "# Definition of savings and total_savings\n",
        "savings = 100\n",
        "total_savings = 150\n",
        "\n",
        "# Fix the printout\n",
        "print(\"I started with $\" + str(savings) + \" and now have $\" + str(total_savings) + \". Awesome!\")\n",
        "\n",
        "# Definition of pi_string\n",
        "pi_string = \"3.1415926\"\n",
        "\n",
        "# Convert pi_string into float: pi_float\n",
        "pi_float = float(pi_string)"
      ],
      "metadata": {
        "id": "q7h9gOEx3rBQ",
        "colab": {
          "base_uri": "https://localhost:8080/"
        },
        "outputId": "504e6318-8546-4c89-9ce2-9ac7db284e93"
      },
      "execution_count": 2,
      "outputs": [
        {
          "output_type": "stream",
          "name": "stdout",
          "text": [
            "I started with $100 and now have $150. Awesome!\n"
          ]
        }
      ]
    },
    {
      "cell_type": "markdown",
      "source": [
        "# **2 - Python Lists**"
      ],
      "metadata": {
        "id": "Y7p0VHAm38zL"
      }
    },
    {
      "cell_type": "markdown",
      "source": [
        "# **Exercise**\n",
        "Create a list\n",
        "As opposed to int, bool etc., a list is a compound data type; you can group values together:\n",
        "\n",
        "a = \"is\"\n",
        "b = \"nice\"\n",
        "my_list = [\"my\", \"list\", a, b]\n",
        "After measuring the height of your family, you decide to collect some information on the house you're living in. The areas of the different parts of your house are stored in separate variables for now, as shown in the script.\n",
        "\n",
        "# **Instructions**\n",
        "Create a list, areas, that contains the area of the hallway (hall), kitchen (kit), living room (liv), bedroom (bed) and bathroom (bath), in this order. Use the predefined variables.\n",
        "Print areas with the print() function."
      ],
      "metadata": {
        "id": "j_p49PkI4DZb"
      }
    },
    {
      "cell_type": "code",
      "source": [
        "# area variables (in square meters)\n",
        "hall = 11.25\n",
        "kit = 18.0\n",
        "liv = 20.0\n",
        "bed = 10.75\n",
        "bath = 9.50\n",
        "\n",
        "# Create list areas\n",
        "areas = [hall, kit, liv, bed, bath]\n",
        "\n",
        "# Print areas\n",
        "print(areas)"
      ],
      "metadata": {
        "id": "6VGsI_vO4B5z",
        "colab": {
          "base_uri": "https://localhost:8080/"
        },
        "outputId": "cad7dd5c-ef15-4d64-aca4-d52147ddd73b"
      },
      "execution_count": 3,
      "outputs": [
        {
          "output_type": "stream",
          "name": "stdout",
          "text": [
            "[11.25, 18.0, 20.0, 10.75, 9.5]\n"
          ]
        }
      ]
    },
    {
      "cell_type": "markdown",
      "source": [
        "# **Exercise**\n",
        "Create list with different types\n",
        "A list can contain any Python type. Although it's not really common, a list can also contain a mix of Python types including strings, floats, booleans, etc.\n",
        "\n",
        "The printout of the previous exercise wasn't really satisfying. It's just a list of numbers representing the areas, but you can't tell which area corresponds to which part of your house.\n",
        "\n",
        "The code in the editor is the start of a solution. For some of the areas, the name of the corresponding room is already placed in front. Pay attention here! \"bathroom\" is a string, while bath is a variable that represents the float 9.50 you specified earlier.\n",
        "\n",
        "# **Instructions**\n",
        "Finish the code that creates the areas list. Build the list so that the list first contains the name of each room as a string and then its area. In other words, add the strings \"hallway\", \"kitchen\" and \"bedroom\" at the appropriate locations.\n",
        "Print areas again; is the printout more informative this time?"
      ],
      "metadata": {
        "id": "DALLgG5h4RUj"
      }
    },
    {
      "cell_type": "code",
      "source": [
        "# area variables (in square meters)\n",
        "hall = 11.25\n",
        "kit = 18.0\n",
        "liv = 20.0\n",
        "bed = 10.75\n",
        "bath = 9.50\n",
        "\n",
        "# Adapt list areas\n",
        "areas = [\"hallway\", hall, \"kitchen\", kit, \"living room\", liv, \"bedroom\", bed, \"bathroom\", bath]\n",
        "\n",
        "# Print areas\n",
        "print(areas)"
      ],
      "metadata": {
        "colab": {
          "base_uri": "https://localhost:8080/"
        },
        "id": "ADsW_omJ4ciM",
        "outputId": "9523868c-f5df-44ae-de5a-b5cb531d8fdb"
      },
      "execution_count": 4,
      "outputs": [
        {
          "output_type": "stream",
          "name": "stdout",
          "text": [
            "['hallway', 11.25, 'kitchen', 18.0, 'living room', 20.0, 'bedroom', 10.75, 'bathroom', 9.5]\n"
          ]
        }
      ]
    },
    {
      "cell_type": "markdown",
      "source": [
        "# **Exercise**\n",
        "List of lists\n",
        "As a data scientist, you'll often be dealing with a lot of data, and it will make sense to group some of this data.\n",
        "\n",
        "Instead of creating a flat list containing strings and floats, representing the names and areas of the rooms in your house, you can create a list of lists. The script in the editor can already give you an idea.\n",
        "\n",
        "Don't get confused here: \"hallway\" is a string, while hall is a variable that represents the float 11.25 you specified earlier.\n",
        "\n",
        "# **Instructions**\n",
        "Finish the list of lists so that it also contains the bedroom and bathroom data. Make sure you enter these in order!\n",
        "Print out house; does this way of structuring your data make more sense?\n",
        "Print out the type of house. Are you still dealing with a list?"
      ],
      "metadata": {
        "id": "85EcaLbs4ip6"
      }
    },
    {
      "cell_type": "code",
      "source": [
        "# area variables (in square meters)\n",
        "hall = 11.25\n",
        "kit = 18.0\n",
        "liv = 20.0\n",
        "bed = 10.75\n",
        "bath = 9.50\n",
        "\n",
        "# house information as list of lists\n",
        "house = [[\"hallway\", hall],\n",
        "         [\"kitchen\", kit],\n",
        "         [\"living room\", liv],\n",
        "         [\"bedroom\", bed],\n",
        "         [\"bathroom\", bath]]\n",
        "\n",
        "# Print out house\n",
        "print(house)\n",
        "\n",
        "\n",
        "# Print out the type of house\n",
        "print(type(house))"
      ],
      "metadata": {
        "id": "1lZyeJbP4uM6",
        "colab": {
          "base_uri": "https://localhost:8080/"
        },
        "outputId": "a2a56b45-9648-411a-f154-45bd7bb66e73"
      },
      "execution_count": 5,
      "outputs": [
        {
          "output_type": "stream",
          "name": "stdout",
          "text": [
            "[['hallway', 11.25], ['kitchen', 18.0], ['living room', 20.0], ['bedroom', 10.75], ['bathroom', 9.5]]\n",
            "<class 'list'>\n"
          ]
        }
      ]
    },
    {
      "cell_type": "markdown",
      "source": [
        "# **Exercise**\n",
        "Subset and conquer\n",
        "Subsetting Python lists is a piece of cake. Take the code sample below, which creates a list x and then selects \"b\" from it. Remember that this is the second element, so it has index 1. You can also use negative indexing.\n",
        "\n",
        "x = [\"a\", \"b\", \"c\", \"d\"]\n",
        "x[1]\n",
        "x[-3] # same result!\n",
        "Remember the areas list from before, containing both strings and floats? Its definition is already in the script. Can you add the correct code to do some Python subsetting?\n",
        "\n",
        "# **Instructions**\n",
        "Print out the second element from the areas list (it has the value 11.25).\n",
        "Subset and print out the last element of areas, being 9.50. Using a negative index makes sense here!\n",
        "Select the number representing the area of the living room (20.0) and print it out."
      ],
      "metadata": {
        "id": "nxK5MRVb4tDv"
      }
    },
    {
      "cell_type": "code",
      "source": [
        "# Create the areas list\n",
        "areas = [\"hallway\", 11.25, \"kitchen\", 18.0, \"living room\", 20.0, \"bedroom\", 10.75, \"bathroom\", 9.50]\n",
        "\n",
        "# Print out second element from areas\n",
        "print(areas[1])\n",
        "\n",
        "# Print out last element from areas\n",
        "print(areas[-1])\n",
        "\n",
        "# Print out the area of the living room\n",
        "print(areas[5])"
      ],
      "metadata": {
        "id": "xgtK13OQ477y",
        "colab": {
          "base_uri": "https://localhost:8080/"
        },
        "outputId": "990f1c99-3fc3-497e-cc2b-9b73e7e58377"
      },
      "execution_count": 6,
      "outputs": [
        {
          "output_type": "stream",
          "name": "stdout",
          "text": [
            "11.25\n",
            "9.5\n",
            "20.0\n"
          ]
        }
      ]
    },
    {
      "cell_type": "markdown",
      "source": [
        "# **Exercise**\n",
        "Subset and calculate\n",
        "After you've extracted values from a list, you can use them to perform additional calculations. Take this example, where the second and fourth element of a list x are extracted. The strings that result are pasted together using the + operator:\n",
        "\n",
        "x = [\"a\", \"b\", \"c\", \"d\"]\n",
        "print(x[1] + x[3])\n",
        "# **Instructions**\n",
        "Using a combination of list subsetting and variable assignment, create a new variable, eat_sleep_area, that contains the sum of the area of the kitchen and the area of the bedroom.\n",
        "Print the new variable eat_sleep_area."
      ],
      "metadata": {
        "id": "41uuL06v5Gp8"
      }
    },
    {
      "cell_type": "code",
      "source": [
        "# Create the areas list\n",
        "areas = [\"hallway\", 11.25, \"kitchen\", 18.0, \"living room\", 20.0, \"bedroom\", 10.75, \"bathroom\", 9.50]\n",
        "\n",
        "# Sum of kitchen and bedroom area: eat_sleep_area\n",
        "eat_sleep_area=areas[3]+areas[-3]\n",
        "\n",
        "# Print the variable eat_sleep_area\n",
        "print(eat_sleep_area)"
      ],
      "metadata": {
        "id": "KOfJESnZ5Lej",
        "colab": {
          "base_uri": "https://localhost:8080/"
        },
        "outputId": "aaef1c6c-7c1c-4980-df81-f4d62a7f7cef"
      },
      "execution_count": 7,
      "outputs": [
        {
          "output_type": "stream",
          "name": "stdout",
          "text": [
            "28.75\n"
          ]
        }
      ]
    },
    {
      "cell_type": "markdown",
      "source": [
        "# **Exercise**\n",
        "Slicing and dicing\n",
        "Selecting single values from a list is just one part of the story. It's also possible to slice your list, which means selecting multiple elements from your list. Use the following syntax:\n",
        "\n",
        "my_list[start:end]\n",
        "The start index will be included, while the end index is not.\n",
        "\n",
        "The code sample below shows an example. A list with \"b\" and \"c\", corresponding to indexes 1 and 2, are selected from a list x:\n",
        "\n",
        "x = [\"a\", \"b\", \"c\", \"d\"]\n",
        "x[1:3]\n",
        "The elements with index 1 and 2 are included, while the element with index 3 is not.\n",
        "\n",
        "# **Instructions**\n",
        "Use slicing to create a list, downstairs, that contains the first 6 elements of areas.\n",
        "Do a similar thing to create a new variable, upstairs, that contains the last 4 elements of areas.\n",
        "Print both downstairs and upstairs using print()."
      ],
      "metadata": {
        "id": "BmuLDBA95SS9"
      }
    },
    {
      "cell_type": "code",
      "source": [
        "# Create the areas list\n",
        "areas = [\"hallway\", 11.25, \"kitchen\", 18.0, \"living room\", 20.0, \"bedroom\", 10.75, \"bathroom\", 9.50]\n",
        "\n",
        "# Use slicing to create downstairs\n",
        "downstairs = areas[:6]\n",
        "\n",
        "# Use slicing to create upstairs\n",
        "upstairs = areas[-4:]\n",
        "\n",
        "# Print out downstairs and upstairs\n",
        "print(downstairs)\n",
        "print(upstairs)"
      ],
      "metadata": {
        "id": "vs3jfxzA5XvC",
        "colab": {
          "base_uri": "https://localhost:8080/"
        },
        "outputId": "f4a5f95e-89a0-4b48-a879-bb61f7e1aaa7"
      },
      "execution_count": 8,
      "outputs": [
        {
          "output_type": "stream",
          "name": "stdout",
          "text": [
            "['hallway', 11.25, 'kitchen', 18.0, 'living room', 20.0]\n",
            "['bedroom', 10.75, 'bathroom', 9.5]\n"
          ]
        }
      ]
    },
    {
      "cell_type": "markdown",
      "source": [
        "# **Exercise**\n",
        "Slicing and dicing (2)\n",
        "In the video, Hugo first discussed the syntax where you specify both where to begin and end the slice of your list:\n",
        "\n",
        "my_list[begin:end]\n",
        "However, it's also possible not to specify these indexes. If you don't specify the begin index, Python figures out that you want to start your slice at the beginning of your list. If you don't specify the end index, the slice will go all the way to the last element of your list. To experiment with this, try the following commands in the IPython Shell:\n",
        "\n",
        "x = [\"a\", \"b\", \"c\", \"d\"]\n",
        "x[:2]\n",
        "x[2:]\n",
        "x[:]\n",
        "# **Instructions**\n",
        "Create downstairs again, as the first 6 elements of areas. This time, simplify the slicing by omitting the begin index.\n",
        "Create upstairs again, as the last 4 elements of areas. This time, simplify the slicing by omitting the end index."
      ],
      "metadata": {
        "id": "hiSKIDaV5emB"
      }
    },
    {
      "cell_type": "code",
      "source": [
        "# Create the areas list\n",
        "areas = [\"hallway\", 11.25, \"kitchen\", 18.0, \"living room\", 20.0, \"bedroom\", 10.75, \"bathroom\", 9.50]\n",
        "\n",
        "# Alternative slicing to create downstairs\n",
        "downstairs = areas[:6]\n",
        "\n",
        "# Alternative slicing to create upstairs\n",
        "upstairs = areas[-4:]"
      ],
      "metadata": {
        "id": "B3a0Hg_45lN1"
      },
      "execution_count": 9,
      "outputs": []
    },
    {
      "cell_type": "markdown",
      "source": [
        "# **Exercise**\n",
        "Replace list elements\n",
        "Replacing list elements is pretty easy. Simply subset the list and assign new values to the subset. You can select single elements or you can change entire list slices at once.\n",
        "\n",
        "Use the IPython Shell to experiment with the commands below. Can you tell what's happening and why?\n",
        "\n",
        "x = [\"a\", \"b\", \"c\", \"d\"]\n",
        "x[1] = \"r\"\n",
        "x[2:] = [\"s\", \"t\"]\n",
        "For this and the following exercises, you'll continue working on the areas list that contains the names and areas of different rooms in a house.\n",
        "\n",
        "# **Instructions**\n",
        "Update the area of the bathroom area to be 10.50 square meters instead of 9.50.\n",
        "Make the areas list more trendy! Change \"living room\" to \"chill zone\"."
      ],
      "metadata": {
        "id": "N5JbG-EV5nWE"
      }
    },
    {
      "cell_type": "code",
      "source": [
        "# Create the areas list\n",
        "areas = [\"hallway\", 11.25, \"kitchen\", 18.0, \"living room\", 20.0, \"bedroom\", 10.75, \"bathroom\", 9.50]\n",
        "\n",
        "# Correct the bathroom area\n",
        "areas[-1]=10.50\n",
        "\n",
        "# Change \"living room\" to \"chill zone\"\n",
        "areas[4]=\"chill zone\""
      ],
      "metadata": {
        "id": "oZrvK_xw5xNo"
      },
      "execution_count": 10,
      "outputs": []
    },
    {
      "cell_type": "markdown",
      "source": [
        "# **Exercise**\n",
        "Extend a list\n",
        "If you can change elements in a list, you sure want to be able to add elements to it, right? You can use the + operator:\n",
        "\n",
        "x = [\"a\", \"b\", \"c\", \"d\"]\n",
        "y = x + [\"e\", \"f\"]\n",
        "You just won the lottery, awesome! You decide to build a poolhouse and a garage. Can you add the information to the areas list?\n",
        "\n",
        "# **Instructions**\n",
        "Use the + operator to paste the list [\"poolhouse\", 24.5] to the end of the areas list. Store the resulting list as areas_1.\n",
        "Further extend areas_1 by adding data on your garage. Add the string \"garage\" and float 15.45. Name the resulting list areas_2"
      ],
      "metadata": {
        "id": "Lh1PgLDs5x9u"
      }
    },
    {
      "cell_type": "code",
      "source": [
        "# Create the areas list and make some changes\n",
        "areas = [\"hallway\", 11.25, \"kitchen\", 18.0, \"chill zone\", 20.0,\n",
        "         \"bedroom\", 10.75, \"bathroom\", 10.50]\n",
        "\n",
        "# Add poolhouse data to areas, new list is areas_1\n",
        "\n",
        "areas_1 = areas+[\"poolhouse\", 24.5]\n",
        "# Add garage data to areas_1, new list is areas_2\n",
        "areas_2 = areas_1+[\"garage\", 15.45]"
      ],
      "metadata": {
        "id": "1yYkMRAw58Ap"
      },
      "execution_count": 11,
      "outputs": []
    },
    {
      "cell_type": "markdown",
      "source": [
        "# **Exercise**\n",
        "Inner workings of lists\n",
        "At the end of the video, Hugo explained how Python lists work behind the scenes. In this exercise you'll get some hands-on experience with this.\n",
        "\n",
        "The Python code in the script already creates a list with the name areas and a copy named areas_copy. Next, the first element in the areas_copy list is changed and the areas list is printed out. If you hit Run Code you'll see that, although you've changed areas_copy, the change also takes effect in the areas list. That's because areas and areas_copy point to the same list.\n",
        "\n",
        "If you want to prevent changes in areas_copy from also taking effect in areas, you'll have to do a more explicit copy of the areas list. You can do this with list() or by using [:].\n",
        "\n",
        "# **Instructions**\n",
        "Change the second command, that creates the variable areas_copy, such that areas_copy is an explicit copy of areas. After your edit, changes made to areas_copy shouldn't affect areas. Submit the answer to check this."
      ],
      "metadata": {
        "id": "r4hq2dtp57iw"
      }
    },
    {
      "cell_type": "code",
      "source": [
        "# Create list areas\n",
        "areas = [11.25, 18.0, 20.0, 10.75, 9.50]\n",
        "\n",
        "# Create areas_copy\n",
        "areas_copy = areas[:]\n",
        "\n",
        "# Change areas_copy\n",
        "areas_copy[0] = 5.0\n",
        "\n",
        "# Print areas\n",
        "print(areas)"
      ],
      "metadata": {
        "id": "AFNxiKgw6Fax",
        "colab": {
          "base_uri": "https://localhost:8080/"
        },
        "outputId": "bc18e1d0-fc12-4390-e908-cedb8aa0350e"
      },
      "execution_count": 12,
      "outputs": [
        {
          "output_type": "stream",
          "name": "stdout",
          "text": [
            "[11.25, 18.0, 20.0, 10.75, 9.5]\n"
          ]
        }
      ]
    },
    {
      "cell_type": "markdown",
      "source": [],
      "metadata": {
        "id": "K_rPoUyw6HVV"
      }
    },
    {
      "cell_type": "markdown",
      "source": [
        "## **3 - Functions, Methods, Packages**"
      ],
      "metadata": {
        "id": "vK_WR3tvmc8l"
      }
    },
    {
      "cell_type": "markdown",
      "source": [
        "# **Exercise**\n",
        "Familiar functions\n",
        "Out of the box, Python offers a bunch of built-in functions to make your life as a data scientist easier. You already know two such functions: print() and type(). You've also used the functions str(), int(), bool() and float() to switch between data types. These are built-in functions as well.\n",
        "\n",
        "Calling a function is easy. To get the type of 3.0 and store the output as a new variable, result, you can use the following:\n",
        "\n",
        "result = type(3.0)\n",
        "The general recipe for calling functions and saving the result to a variable is thus:\n",
        "\n",
        "output = function_name(input)\n",
        "# **Instructions**\n",
        "Use print() in combination with type() to print out the type of var1.\n",
        "Use len() to get the length of the list var1. Wrap it in a print() call to directly print it out.\n",
        "Use int() to convert var2 to an integer. Store the output as out2."
      ],
      "metadata": {
        "id": "FLqN25QS6XgR"
      }
    },
    {
      "cell_type": "code",
      "source": [
        "# Create variables var1 and var2\n",
        "var1 = [1, 2, 3, 4]\n",
        "var2 = True\n",
        "\n",
        "# Print out type of var1\n",
        "print(type(var1))\n",
        "\n",
        "# Print out length of var1\n",
        "print(len(var1))\n",
        "\n",
        "# Convert var2 to an integer: out2\n",
        "out2=int(var2)"
      ],
      "metadata": {
        "id": "fYDf5YW96ecL",
        "colab": {
          "base_uri": "https://localhost:8080/"
        },
        "outputId": "be6dcc91-9f55-4780-8923-2a358a4c7f48"
      },
      "execution_count": 13,
      "outputs": [
        {
          "output_type": "stream",
          "name": "stdout",
          "text": [
            "<class 'list'>\n",
            "4\n"
          ]
        }
      ]
    },
    {
      "cell_type": "markdown",
      "source": [
        "# **Exercise**\n",
        "Multiple arguments\n",
        "In the previous exercise, you identified optional arguments by viewing the documentation with help(). You'll now apply this to change the behavior of the sorted() function.\n",
        "\n",
        "Have a look at the documentation of sorted() by typing help(sorted) in the IPython Shell.\n",
        "\n",
        "You'll see that sorted() takes three arguments: iterable, key, and reverse.\n",
        "\n",
        "key=None means that if you don't specify the key argument, it will be None. reverse=False means that if you don't specify the reverse argument, it will be False, by default.\n",
        "\n",
        "In this exercise, you'll only have to specify iterable and reverse, not key. The first input you pass to sorted() will be matched to the iterable argument, but what about the second input? To tell Python you want to specify reverse without changing anything about key, you can use = to assign it a new value:\n",
        "\n",
        "sorted(____, reverse=____)\n",
        "Two lists have been created for you. Can you paste them together and sort them in descending order?\n",
        "\n",
        "Note: For now, we can understand an iterable as being any collection of objects, e.g., a List.\n",
        "\n",
        "# **Instructions**\n",
        "Use + to merge the contents of first and second into a new list: full.\n",
        "Call sorted() on full and specify the reverse argument to be True. Save the sorted list as full_sorted.\n",
        "Finish off by printing out full_sorted."
      ],
      "metadata": {
        "id": "DI_P8gzk6lJI"
      }
    },
    {
      "cell_type": "code",
      "source": [
        "# Create lists first and second\n",
        "first = [11.25, 18.0, 20.0]\n",
        "second = [10.75, 9.50]\n",
        "\n",
        "# Paste together first and second: full\n",
        "full = first[:]+second[:]\n",
        "\n",
        "# Sort full in descending order: full_sorted\n",
        "full_sorted = sorted(full, reverse=True)\n",
        "\n",
        "# Print out full_sorted\n",
        "print(full_sorted)"
      ],
      "metadata": {
        "id": "4EnuBeJq6vCC",
        "colab": {
          "base_uri": "https://localhost:8080/"
        },
        "outputId": "878d1ead-b03b-4aa0-a6db-e38a3f0bd9b9"
      },
      "execution_count": 14,
      "outputs": [
        {
          "output_type": "stream",
          "name": "stdout",
          "text": [
            "[20.0, 18.0, 11.25, 10.75, 9.5]\n"
          ]
        }
      ]
    },
    {
      "cell_type": "markdown",
      "source": [],
      "metadata": {
        "id": "rEECWyJs68Vq"
      }
    },
    {
      "cell_type": "markdown",
      "source": [
        "# **Exercise**\n",
        "String Methods\n",
        "Strings come with a bunch of methods. Follow the instructions closely to discover some of them. If you want to discover them in more detail, you can always type help(str) in the IPython Shell.\n",
        "\n",
        "A string place has already been created for you to experiment with.\n",
        "\n",
        "# **Instructions**\n",
        "Use the upper() method on place and store the result in place_up. Use the syntax for calling methods that you learned in the previous video.\n",
        "Print out place and place_up. Did both change?\n",
        "Print out the number of o's on the variable place by calling count() on place and passing the letter 'o' as an input to the method. We're talking about the variable place, not the word \"place\"!"
      ],
      "metadata": {
        "id": "plALx5VQl-f0"
      }
    },
    {
      "cell_type": "code",
      "execution_count": null,
      "metadata": {
        "colab": {
          "base_uri": "https://localhost:8080/"
        },
        "id": "E9YiBFqBj3A1",
        "outputId": "78684296-b024-477f-860e-2349aea72fe8"
      },
      "outputs": [
        {
          "output_type": "stream",
          "name": "stdout",
          "text": [
            "poolhouse\n",
            "POOLHOUSE\n",
            "3\n"
          ]
        }
      ],
      "source": [
        "# string to experiment with: place\n",
        "place = \"poolhouse\"\n",
        "\n",
        "# Use upper() on place: place_up\n",
        "place_up = place.upper()\n",
        "\n",
        "# Print out place and place_up\n",
        "print(place)\n",
        "print(place_up)\n",
        "\n",
        "# Print out the number of o's in place\n",
        "print(place.count('o'))"
      ]
    },
    {
      "cell_type": "markdown",
      "source": [
        "# **Exercise**\n",
        "# **List Methods**\n",
        "Strings are not the only Python types that have methods associated with them. Lists, floats, integers and booleans are also types that come packaged with a bunch of useful methods. In this exercise, you'll be experimenting with:\n",
        "\n",
        "index(), to get the index of the first element of a list that matches its input and\n",
        "count(), to get the number of times an element appears in a list.\n",
        "You'll be working on the list with the area of different parts of a house: areas.\n",
        "\n",
        "# **Instructions**\n",
        "Use the index() method to get the index of the element in areas that is equal to 20.0. Print out this index.\n",
        "Call count() on areas to find out how many times 9.50 appears in the list. Again, simply print out this number."
      ],
      "metadata": {
        "id": "zpL7Hbhzmnph"
      }
    },
    {
      "cell_type": "code",
      "source": [
        "# Create list areas\n",
        "areas = [11.25, 18.0, 20.0, 10.75, 9.50]\n",
        "\n",
        "# Print out the index of the element 20.0\n",
        "print(areas.index(20.0))\n",
        "\n",
        "# Print out how often 9.50 appears in areas\n",
        "\n",
        "print(areas.count(9.50))"
      ],
      "metadata": {
        "colab": {
          "base_uri": "https://localhost:8080/"
        },
        "id": "WlQ8X_oImbcx",
        "outputId": "ae635122-5f7f-4718-b349-fee6981e9b8b"
      },
      "execution_count": 15,
      "outputs": [
        {
          "output_type": "stream",
          "name": "stdout",
          "text": [
            "2\n",
            "1\n"
          ]
        }
      ]
    },
    {
      "cell_type": "markdown",
      "source": [
        "# **Exercise**\n",
        "# **List Methods (2)**\n",
        "Most list methods will change the list they're called on. Examples are:\n",
        "\n",
        "append(), that adds an element to the list it is called on,\n",
        "remove(), that removes the first element of a list that matches the input, and\n",
        "reverse(), that reverses the order of the elements in the list it is called on.\n",
        "You'll be working on the list with the area of different parts of the house: areas.\n",
        "\n",
        "# **Instructions**\n",
        "Use append() twice to add the size of the poolhouse and the garage again: 24.5 and 15.45, respectively. Make sure to add them in this order.\n",
        "Print out areas\n",
        "Use the reverse() method to reverse the order of the elements in areas.\n",
        "Print out areas once more."
      ],
      "metadata": {
        "id": "4us6KzSPncUQ"
      }
    },
    {
      "cell_type": "code",
      "source": [
        "# Create list areas\n",
        "areas = [11.25, 18.0, 20.0, 10.75, 9.50]\n",
        "\n",
        "# Use append twice to add poolhouse and garage size\n",
        "\n",
        "areas.append(24.5)\n",
        "areas.append(15.45)\n",
        "\n",
        "\n",
        "# Print out areas\n",
        "print(areas)\n",
        "\n",
        "# Reverse the orders of the elements in areas\n",
        "areas.reverse()\n",
        "\n",
        "# Print out areas\n",
        "print(areas)"
      ],
      "metadata": {
        "colab": {
          "base_uri": "https://localhost:8080/"
        },
        "id": "hTQEE-qInuDd",
        "outputId": "ba0d124d-4d1a-40fb-d93a-56c5698b4dbb"
      },
      "execution_count": 16,
      "outputs": [
        {
          "output_type": "stream",
          "name": "stdout",
          "text": [
            "[11.25, 18.0, 20.0, 10.75, 9.5, 24.5, 15.45]\n",
            "[15.45, 24.5, 9.5, 10.75, 20.0, 18.0, 11.25]\n"
          ]
        }
      ]
    },
    {
      "cell_type": "markdown",
      "source": [
        "# **Exercise**\n",
        "# **Import package**\n",
        "As a data scientist, some notions of geometry never hurt. Let's refresh some of the basics.\n",
        "\n",
        "For a fancy clustering algorithm, you want to find the circumference,\n",
        ", and area,\n",
        ", of a circle. When the radius of the circle is r, you can calculate\n",
        " and\n",
        " as:\n",
        "\n",
        "\n",
        "In Python, the symbol for exponentiation is **. This operator raises the number to its left to the power of the number to its right. For example 3**4 is 3 to the power of 4 and will give 81.\n",
        "\n",
        "To use the constant pi, you'll need the math package. A variable r is already coded in the script. Fill in the code to calculate C and A and see how the print() functions create some nice printouts.\n",
        "\n",
        "# **Instructions**\n",
        "Import the math package. Now you can access the constant pi with math.pi.\n",
        "Calculate the circumference of the circle and store it in C.\n",
        "Calculate the area of the circle and store it in A."
      ],
      "metadata": {
        "id": "_oDrWLt5qPwA"
      }
    },
    {
      "cell_type": "code",
      "source": [
        "# Import the math package\n",
        "import math\n",
        "\n",
        "# Definition of radius\n",
        "r = 0.43\n",
        "\n",
        "# Calculate C\n",
        "C = 2*math.pi*r\n",
        "\n",
        "# Calculate A\n",
        "A = math.pi*r*r\n",
        "\n",
        "# Build printout\n",
        "print(\"Circumference: \" + str(C))\n",
        "print(\"Area: \" + str(A))"
      ],
      "metadata": {
        "colab": {
          "base_uri": "https://localhost:8080/"
        },
        "id": "w0wiPdrCqaCO",
        "outputId": "6d506c18-6910-42de-e0c5-158b29da5592"
      },
      "execution_count": 17,
      "outputs": [
        {
          "output_type": "stream",
          "name": "stdout",
          "text": [
            "Circumference: 2.701769682087222\n",
            "Area: 0.5808804816487527\n"
          ]
        }
      ]
    },
    {
      "cell_type": "markdown",
      "source": [
        "# **Exercise**\n",
        "# **Selective import**\n",
        "General imports, like import math, make all functionality from the math package available to you. However, if you decide to only use a specific part of a package, you can always make your import more selective:\n",
        "\n",
        "from math import pi\n",
        "Let's say the Moon's orbit around planet Earth is a perfect circle, with a radius r (in km) that is defined in the script.\n",
        "\n",
        "# **Instructions**\n",
        "Perform a selective import from the math package where you only import the radians function.\n",
        "Calculate the distance travelled by the Moon over 12 degrees of its orbit. Assign the result to dist. You can calculate this as r * phi, where r is the radius and phi is the angle in radians. To convert an angle in degrees to an angle in radians, use the radians() function, which you just imported.\n",
        "Print out dist."
      ],
      "metadata": {
        "id": "0T9MA_UarC7z"
      }
    },
    {
      "cell_type": "code",
      "source": [
        "# Import radians function of math package\n",
        "from math import radians\n",
        "\n",
        "# Definition of radius\n",
        "r = 192500\n",
        "\n",
        "# Travel distance of Moon over 12 degrees. Store in dist.\n",
        "phi = 12\n",
        "dist = r*radians(phi)\n",
        "\n",
        "# Print out dist\n",
        "print(dist)"
      ],
      "metadata": {
        "colab": {
          "base_uri": "https://localhost:8080/"
        },
        "id": "2wRnwKSbq-4K",
        "outputId": "3594442e-9ad9-48e1-f268-582288c64f6a"
      },
      "execution_count": null,
      "outputs": [
        {
          "output_type": "stream",
          "name": "stdout",
          "text": [
            "40317.10572106901\n"
          ]
        }
      ]
    },
    {
      "cell_type": "markdown",
      "source": [
        "\n",
        "\n",
        "> Content of python lists cannot be added directly thats why for convenience we should use Numpy for mathimatical operations over array or lists\n",
        "\n",
        "\n"
      ],
      "metadata": {
        "id": "tYFbowRb9BEb"
      }
    },
    {
      "cell_type": "code",
      "source": [
        "list1 = [1, 2, 3]\n",
        "print(list1+list1)\n",
        "print(list1 + [1])\n",
        "print(list1[:]+list1[:])\n",
        "print(list1*list1)"
      ],
      "metadata": {
        "colab": {
          "base_uri": "https://localhost:8080/",
          "height": 228
        },
        "id": "cADWEKq7uVd3",
        "outputId": "08091fd8-1206-47ca-a435-10be781dd853"
      },
      "execution_count": 18,
      "outputs": [
        {
          "output_type": "stream",
          "name": "stdout",
          "text": [
            "[1, 2, 3, 1, 2, 3]\n",
            "[1, 2, 3, 1]\n",
            "[1, 2, 3, 1, 2, 3]\n"
          ]
        },
        {
          "output_type": "error",
          "ename": "TypeError",
          "evalue": "can't multiply sequence by non-int of type 'list'",
          "traceback": [
            "\u001b[0;31m---------------------------------------------------------------------------\u001b[0m",
            "\u001b[0;31mTypeError\u001b[0m                                 Traceback (most recent call last)",
            "\u001b[0;32m<ipython-input-18-bcd61a8939b7>\u001b[0m in \u001b[0;36m<cell line: 5>\u001b[0;34m()\u001b[0m\n\u001b[1;32m      3\u001b[0m \u001b[0mprint\u001b[0m\u001b[0;34m(\u001b[0m\u001b[0mlist1\u001b[0m \u001b[0;34m+\u001b[0m \u001b[0;34m[\u001b[0m\u001b[0;36m1\u001b[0m\u001b[0;34m]\u001b[0m\u001b[0;34m)\u001b[0m\u001b[0;34m\u001b[0m\u001b[0;34m\u001b[0m\u001b[0m\n\u001b[1;32m      4\u001b[0m \u001b[0mprint\u001b[0m\u001b[0;34m(\u001b[0m\u001b[0mlist1\u001b[0m\u001b[0;34m[\u001b[0m\u001b[0;34m:\u001b[0m\u001b[0;34m]\u001b[0m\u001b[0;34m+\u001b[0m\u001b[0mlist1\u001b[0m\u001b[0;34m[\u001b[0m\u001b[0;34m:\u001b[0m\u001b[0;34m]\u001b[0m\u001b[0;34m)\u001b[0m\u001b[0;34m\u001b[0m\u001b[0;34m\u001b[0m\u001b[0m\n\u001b[0;32m----> 5\u001b[0;31m \u001b[0mprint\u001b[0m\u001b[0;34m(\u001b[0m\u001b[0mlist1\u001b[0m\u001b[0;34m*\u001b[0m\u001b[0mlist1\u001b[0m\u001b[0;34m)\u001b[0m\u001b[0;34m\u001b[0m\u001b[0;34m\u001b[0m\u001b[0m\n\u001b[0m",
            "\u001b[0;31mTypeError\u001b[0m: can't multiply sequence by non-int of type 'list'"
          ]
        }
      ]
    },
    {
      "cell_type": "markdown",
      "source": [
        "# **4 - Numpy**"
      ],
      "metadata": {
        "id": "xnT_2iX4ALOO"
      }
    },
    {
      "cell_type": "markdown",
      "source": [
        "# **Exercise**\n",
        "Your First NumPy Array\n",
        "In this chapter, we're going to dive into the world of baseball. Along the way, you'll get comfortable with the basics of numpy, a powerful package to do data science.\n",
        "\n",
        "A list baseball has already been defined in the Python script, representing the height of some baseball players in centimeters. Can you add some code here and there to create a numpy array from it?\n",
        "\n",
        "# **Instructions**\n",
        "Import the numpy package as np, so that you can refer to numpy with np.\n",
        "Use np.array() to create a numpy array from baseball. Name this array np_baseball.\n",
        "Print out the type of np_baseball to check that you got it right."
      ],
      "metadata": {
        "id": "Msc-sfPzAPnl"
      }
    },
    {
      "cell_type": "code",
      "source": [
        "# Import the numpy package as np\n",
        "import numpy as np\n",
        "\n",
        "\n",
        "# Create list baseball\n",
        "baseball = [180, 215, 210, 210, 188, 176, 209, 200]\n",
        "\n",
        "# Create a numpy array from baseball: np_baseball\n",
        "np_baseball = np.array(baseball)\n",
        "\n",
        "# Print out type of np_baseball\n",
        "type(np_baseball)"
      ],
      "metadata": {
        "id": "xM8v_xz1umQC",
        "colab": {
          "base_uri": "https://localhost:8080/"
        },
        "outputId": "45dc06b8-5bca-4420-c234-b731333b087f"
      },
      "execution_count": 22,
      "outputs": [
        {
          "output_type": "execute_result",
          "data": {
            "text/plain": [
              "numpy.ndarray"
            ]
          },
          "metadata": {},
          "execution_count": 22
        }
      ]
    },
    {
      "cell_type": "markdown",
      "source": [
        "# **Exercise**\n",
        "Baseball players' height\n",
        "You are a huge baseball fan. You decide to call the MLB (Major League Baseball) and ask around for some more statistics on the height of the main players. They pass along data on more than a thousand players, which is stored as a regular Python list: height_in. The height is expressed in inches. Can you make a numpy array out of it and convert the units to meters?\n",
        "\n",
        "height_in is already available and the numpy package is loaded, so you can start straight away (Source: stat.ucla.edu).\n",
        "\n",
        "# **Instructions**\n",
        "Create a numpy array from height_in. Name this new array np_height_in.\n",
        "Print np_height_in.\n",
        "Multiply np_height_in with 0.0254 to convert all height measurements from inches to meters. Store the new values in a new array, np_height_m.\n",
        "Print out np_height_m and check if the output makes sense."
      ],
      "metadata": {
        "id": "mzajxFloAW8m"
      }
    },
    {
      "cell_type": "code",
      "source": [
        "# Import numpy\n",
        "import numpy as np\n",
        "\n",
        "# Create a numpy array from height_in: np_height_in\n",
        "height_in = [20.01, 21.02, 40.2, 30.2]\n",
        "np_height_in = np.array(height_in)\n",
        "\n",
        "# Print out np_height_in\n",
        "print(np_height_in)\n",
        "\n",
        "# Convert np_height_in to m: np_height_m\n",
        "np_height_m = 0.0254*np_height_in\n",
        "\n",
        "# Print np_height_m\n",
        "print(np_height_m)"
      ],
      "metadata": {
        "colab": {
          "base_uri": "https://localhost:8080/"
        },
        "id": "6mP0zfbbAn-0",
        "outputId": "81c8edff-902b-4230-fb50-a3b79a519502"
      },
      "execution_count": 25,
      "outputs": [
        {
          "output_type": "stream",
          "name": "stdout",
          "text": [
            "[20.01 21.02 40.2  30.2 ]\n",
            "[0.508254 0.533908 1.02108  0.76708 ]\n"
          ]
        }
      ]
    },
    {
      "cell_type": "markdown",
      "source": [
        "# **Exercise**\n",
        "Baseball player's BMI\n",
        "The MLB also offers to let you analyze their weight data. Again, both are available as regular Python lists: height_in and weight_lb. height_in is in inches and weight_lb is in pounds.\n",
        "\n",
        "It's now possible to calculate the BMI of each baseball player. Python code to convert height_in to a numpy array with the correct units is already available in the workspace. Follow the instructions step by step and finish the game! height_in and weight_lb are available as regular lists.\n",
        "\n",
        "# **Instructions**\n",
        "Create a numpy array from the weight_lb list with the correct units. Multiply by 0.453592 to go from pounds to kilograms. Store the resulting numpy array as np_weight_kg.\n",
        "Use np_height_m and np_weight_kg to calculate the BMI of each player. Use the following equation:\n",
        "\n",
        "BMI = (weight (km)/height m^2)\n",
        "\n",
        "Save the resulting numpy array as bmi.\n",
        "Print out bmi."
      ],
      "metadata": {
        "id": "QdYRWeChBsBv"
      }
    },
    {
      "cell_type": "code",
      "source": [
        "# Import numpy\n",
        "import numpy as np\n",
        "weight_lb = [30, 20, 40, 20.55]\n",
        "\n",
        "# Create array from height_in with metric units: np_height_m\n",
        "np_height_m = np.array(height_in) * 0.0254\n",
        "\n",
        "# Create array from weight_lb with metric units: np_weight_kg\n",
        "np_weight_kg = (np.array(weight_lb))*0.453592\n",
        "\n",
        "# Calculate the BMI: bmi\n",
        "bmi = (np_weight_kg/np_height_m**2)\n",
        "\n",
        "# Print out bmi\n",
        "print(bmi)"
      ],
      "metadata": {
        "colab": {
          "base_uri": "https://localhost:8080/"
        },
        "id": "jHJITYOvBwKo",
        "outputId": "906f1ace-6727-49a2-8c14-8dd94b7c9888"
      },
      "execution_count": 27,
      "outputs": [
        {
          "output_type": "stream",
          "name": "stdout",
          "text": [
            "[52.67748481 31.82456861 17.40226742 15.84148511]\n"
          ]
        }
      ]
    },
    {
      "cell_type": "markdown",
      "source": [
        "# **Exercise**\n",
        "# **Lightweight baseball players**\n",
        "To subset both regular Python lists and numpy arrays, you can use square brackets:\n",
        "\n",
        "\n",
        "\n",
        "```\n",
        "x = [4 , 9 , 6, 3, 1]\n",
        "x[1]\n",
        "import numpy as np\n",
        "y = np.array(x)\n",
        "y[1]\n",
        "```\n",
        "\n",
        "\n",
        "For numpy specifically, you can also use boolean numpy arrays:\n",
        "\n",
        "\n",
        "\n",
        "```\n",
        "high = y > 5\n",
        "y[high]\n",
        "```\n",
        "\n",
        "\n",
        "The code that calculates the BMI of all baseball players is already included. Follow the instructions and reveal interesting things from the data! height_in and weight_lb are available as regular lists.\n",
        "\n",
        "# **Instructions**\n",
        "Create a boolean numpy array: the element of the array should be True if the corresponding baseball player's BMI is below 21. You can use the < operator for this. Name the array light.\n",
        "Print the array light.\n",
        "Print out a numpy array with the BMIs of all baseball players whose BMI is below 21. Use light inside square brackets to do a selection on the bmi array."
      ],
      "metadata": {
        "id": "FmMBRXuMEP7m"
      }
    },
    {
      "cell_type": "code",
      "source": [
        "# Import numpy\n",
        "import numpy as np\n",
        "\n",
        "# Calculate the BMI: bmi\n",
        "np_height_m = np.array(height_in) * 0.0254\n",
        "np_weight_kg = np.array(weight_lb) * 0.453592\n",
        "bmi = np_weight_kg / np_height_m ** 2\n",
        "\n",
        "# Create the light array\n",
        "light = bmi<21\n",
        "\n",
        "# Print out light\n",
        "print(light)\n",
        "\n",
        "# Print out BMIs of all baseball players whose BMI is below 21\n",
        "print(bmi[bmi<21])"
      ],
      "metadata": {
        "colab": {
          "base_uri": "https://localhost:8080/"
        },
        "id": "ETSuhtSZEhcn",
        "outputId": "2c9d33b3-99c4-41b1-b770-c28ceb4981c8"
      },
      "execution_count": 28,
      "outputs": [
        {
          "output_type": "stream",
          "name": "stdout",
          "text": [
            "[False False  True  True]\n",
            "[17.40226742 15.84148511]\n"
          ]
        }
      ]
    },
    {
      "cell_type": "markdown",
      "source": [
        "# **Exercise**\n",
        "# **Subsetting NumPy Arrays**\n",
        "You've seen it with your own eyes: Python lists and numpy arrays sometimes behave differently. Luckily, there are still certainties in this world. For example, subsetting (using the square bracket notation on lists or arrays) works exactly the same. To see this for yourself, try the following lines of code in the IPython Shell:\n",
        "\n",
        "\n",
        "\n",
        "```\n",
        "x = [\"a\", \"b\", \"c\"]\n",
        "x[1]\n",
        "```\n",
        "\n",
        "\n",
        "\n",
        "\n",
        "\n",
        "```\n",
        "np_x = np.array(x)\n",
        "np_x[1]\n",
        "```\n",
        "\n",
        "\n",
        "The script in the editor already contains code that imports numpy as np, and stores both the height and weight of the MLB players as numpy arrays. height_in and weight_lb are available as regular lists.\n",
        "\n",
        "# **Instructions**\n",
        "Subset np_weight_lb by printing out the element at index 2.\n",
        "Print out a sub-array of np_height_in that contains the elements at index 2 up to and including index 4."
      ],
      "metadata": {
        "id": "5mWV73VqIteu"
      }
    },
    {
      "cell_type": "code",
      "source": [
        "# Import numpy\n",
        "import numpy as np\n",
        "\n",
        "# Store weight and height lists as numpy arrays\n",
        "np_weight_lb = np.array(weight_lb)\n",
        "np_height_in = np.array(height_in)\n",
        "\n",
        "# Print out the weight at index 50\n",
        "print(np_weight_lb[1])\n",
        "\n",
        "# Print out sub-array of np_height_in: index 100 up to and including index 110\n",
        "\n",
        "print(np_height_in[1:4])\n"
      ],
      "metadata": {
        "colab": {
          "base_uri": "https://localhost:8080/"
        },
        "id": "D1p0y2DTEk89",
        "outputId": "17fd87c8-2cf5-4bb4-9492-6da8a7f74dfb"
      },
      "execution_count": 31,
      "outputs": [
        {
          "output_type": "stream",
          "name": "stdout",
          "text": [
            "20.0\n",
            "[21.02 40.2  30.2 ]\n"
          ]
        }
      ]
    },
    {
      "cell_type": "markdown",
      "source": [
        "# **Exercise**\n",
        "# **Your First 2D NumPy Array**\n",
        "Before working on the actual MLB data, let's try to create a 2D numpy array from a small list of lists.\n",
        "\n",
        "In this exercise, baseball is a list of lists. The main list contains 4 elements. Each of these elements is a list containing the height and the weight of 4 baseball players, in this order. baseball is already coded for you in the script.\n",
        "\n",
        "# **Instructions**\n",
        "Use np.array() to create a 2D numpy array from baseball. Name it np_baseball.\n",
        "Print out the type of np_baseball.\n",
        "Print out the shape attribute of np_baseball. Use np_baseball.shape."
      ],
      "metadata": {
        "id": "44N1MmI4Omqs"
      }
    },
    {
      "cell_type": "code",
      "source": [
        "# Import numpy\n",
        "import numpy as np\n",
        "\n",
        "# Create baseball, a list of lists\n",
        "baseball = [[180, 78.4],\n",
        "            [215, 102.7],\n",
        "            [210, 98.5],\n",
        "            [188, 75.2]]\n",
        "\n",
        "# Create a 2D numpy array from baseball: np_baseball\n",
        "np_baseball = np.array(baseball)\n",
        "\n",
        "# Print out the type of np_baseball\n",
        "print(type(np_baseball))\n",
        "\n",
        "# Print out the shape of np_baseball\n",
        "print(np_baseball.shape)"
      ],
      "metadata": {
        "colab": {
          "base_uri": "https://localhost:8080/"
        },
        "id": "xwS_sqBYKf8l",
        "outputId": "d4a2cf48-992b-4caf-d230-10d7854e07d6"
      },
      "execution_count": 32,
      "outputs": [
        {
          "output_type": "stream",
          "name": "stdout",
          "text": [
            "<class 'numpy.ndarray'>\n"
          ]
        },
        {
          "output_type": "execute_result",
          "data": {
            "text/plain": [
              "(4, 2)"
            ]
          },
          "metadata": {},
          "execution_count": 32
        }
      ]
    },
    {
      "cell_type": "markdown",
      "source": [
        "# **Exercise**\n",
        "# **Subsetting 2D NumPy Arrays**\n",
        "If your 2D numpy array has a regular structure, i.e. each row and column has a fixed number of values, complicated ways of subsetting become very easy. Have a look at the code below where the elements \"a\" and \"c\" are extracted from a list of lists.\n",
        "\n",
        "\n",
        "\n",
        "```\n",
        "# regular list of lists\n",
        "x = [[\"a\", \"b\"], [\"c\", \"d\"]]\n",
        "[x[0][0], x[1][0]]\n",
        "\n",
        "# numpy\n",
        "import numpy as np\n",
        "np_x = np.array(x)\n",
        "np_x[:, 0]\n",
        "```\n",
        "\n",
        "\n",
        "For regular Python lists, this is a real pain. For 2D numpy arrays, however, it's pretty intuitive! The indexes before the comma refer to the rows, while those after the comma refer to the columns. The : is for slicing; in this example, it tells Python to include all rows.\n",
        "\n",
        "The code that converts the pre-loaded baseball list to a 2D numpy array is already in the script. The first column contains the players' height in inches and the second column holds player weight, in pounds. Add some lines to make the correct selections. Remember that in Python, the first element is at index 0! baseball is available as a regular list of lists.\n",
        "\n",
        "# **Instructions**\n",
        "Print out the 4th row of np_baseball.\n",
        "Make a new variable, np_weight_lb, containing the entire second column of np_baseball.\n",
        "Select the height (first column) of the 4th baseball player in np_baseball and print it out."
      ],
      "metadata": {
        "id": "9CZfHC1ePHm1"
      }
    },
    {
      "cell_type": "code",
      "source": [
        "# Import numpy package\n",
        "import numpy as np\n",
        "\n",
        "# Create np_baseball (2 cols)\n",
        "np_baseball = np.array(baseball)\n",
        "\n",
        "# Print out the 4th row of np_baseball\n",
        "print(np_baseball[3, :])\n",
        "\n",
        "# Select the entire second column of np_baseball: np_weight_lb\n",
        "np_weight_lb = np_baseball[:, 1]\n",
        "\n",
        "# Print out height of 4th player\n",
        "print(np_baseball[3,0])"
      ],
      "metadata": {
        "colab": {
          "base_uri": "https://localhost:8080/"
        },
        "id": "2yBGAeUtO-t8",
        "outputId": "22091499-08e0-4b4c-f42a-1ea0ae91a454"
      },
      "execution_count": 35,
      "outputs": [
        {
          "output_type": "stream",
          "name": "stdout",
          "text": [
            "[188.   75.2]\n",
            "188.0\n"
          ]
        }
      ]
    },
    {
      "cell_type": "markdown",
      "source": [
        "# **Exercise**\n",
        "# **Average versus median**\n",
        "You now know how to use numpy functions to get a better feeling for your data. It basically comes down to importing numpy and then calling several simple functions on the numpy arrays:\n",
        "\n",
        "\n",
        "\n",
        "```\n",
        "import numpy as np\n",
        "x = [1, 4, 8, 10, 12]\n",
        "np.mean(x)\n",
        "np.median(x)\n",
        "```\n",
        "\n",
        "\n",
        "\n",
        "The baseball data is available as a 2D numpy array with 3 columns (height, weight, age) and 1015 rows. The name of this numpy array is np_baseball. After restructuring the data, however, you notice that some height values are abnormally high. Follow the instructions and discover which summary statistic is best suited if you're dealing with so-called outliers. np_baseball is available.\n",
        "\n",
        "# **Instructions**\n",
        "Create numpy array np_height_in that is equal to first column of np_baseball.\n",
        "Print out the mean of np_height_in.\n",
        "Print out the median of np_height_in."
      ],
      "metadata": {
        "id": "cAH8N7-NRICx"
      }
    },
    {
      "cell_type": "code",
      "source": [
        "# Import numpy\n",
        "import numpy as np\n",
        "\n",
        "# Create np_height_in from np_baseball\n",
        "np_height_in = np_baseball[:,0]\n",
        "\n",
        "# Print out the mean of np_height_in\n",
        "print(np.mean(np_height_in))\n",
        "\n",
        "# Print out the median of np_height_in\n",
        "print(np.median(np_height_in))"
      ],
      "metadata": {
        "colab": {
          "base_uri": "https://localhost:8080/"
        },
        "id": "E8aEmn4eQZia",
        "outputId": "32e30472-1f33-426f-c906-110af680d5a0"
      },
      "execution_count": 36,
      "outputs": [
        {
          "output_type": "stream",
          "name": "stdout",
          "text": [
            "198.25\n",
            "199.0\n"
          ]
        }
      ]
    },
    {
      "cell_type": "markdown",
      "source": [
        "# **Exercise**\n",
        "# **Explore the baseball data**\n",
        "Because the mean and median are so far apart, you decide to complain to the MLB. They find the error and send the corrected data over to you. It's again available as a 2D NumPy array np_baseball, with three columns.\n",
        "\n",
        "The Python script in the editor already includes code to print out informative messages with the different summary statistics. Can you finish the job? np_baseball is available.\n",
        "\n",
        "# **Instructions**\n",
        "The code to print out the mean height is already included. Complete the code for the median height. Replace None with the correct code.\n",
        "Use np.std() on the first column of np_baseball to calculate stddev. Replace None with the correct code.\n",
        "Do big players tend to be heavier? Use np.corrcoef() to store the correlation between the first and second column of np_baseball in corr. Replace None with the correct code."
      ],
      "metadata": {
        "id": "L3LSbutfXIBN"
      }
    },
    {
      "cell_type": "code",
      "source": [
        "# Import numpy\n",
        "import numpy as np\n",
        "\n",
        "# Print mean height (first column)\n",
        "avg = np.mean(np_baseball[:,0])\n",
        "print(\"Average: \" + str(avg))\n",
        "\n",
        "# Print median height. Replace 'None'\n",
        "med = np.median(np_baseball[:,0])\n",
        "print(\"Median: \" + str(med))\n",
        "\n",
        "# Print out the standard deviation on height. Replace 'None'\n",
        "stddev = np.std(np_baseball[:,0])\n",
        "print(\"Standard Deviation: \" + str(stddev))\n",
        "\n",
        "# Print out correlation between first and second column. Replace 'None'\n",
        "corr = np.corrcoef(np_baseball[:,0], np_baseball[:,1])\n",
        "print(\"Correlation: \" + str(corr))"
      ],
      "metadata": {
        "colab": {
          "base_uri": "https://localhost:8080/"
        },
        "id": "t2e-EKvVV-h8",
        "outputId": "ec573c36-33f1-4b15-eda3-c43a15e48b80"
      },
      "execution_count": 37,
      "outputs": [
        {
          "output_type": "stream",
          "name": "stdout",
          "text": [
            "Average: 198.25\n",
            "Median: 199.0\n",
            "Standard Deviation: 14.635146053251399\n",
            "Correlation: [[1.         0.95865738]\n",
            " [0.95865738 1.        ]]\n"
          ]
        }
      ]
    },
    {
      "cell_type": "markdown",
      "source": [
        "**Completed**"
      ],
      "metadata": {
        "id": "sYCVaUz4eKQF"
      }
    }
  ]
}